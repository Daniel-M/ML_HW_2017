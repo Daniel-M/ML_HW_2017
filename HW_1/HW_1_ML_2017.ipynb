{
 "cells": [
  {
   "cell_type": "code",
   "execution_count": 1,
   "metadata": {
    "collapsed": true
   },
   "outputs": [],
   "source": [
    "import numpy as np\n",
    "import pandas as pd\n",
    "from pandas.plotting import scatter_matrix\n",
    "import matplotlib.pyplot as plt\n",
    "%matplotlib inline"
   ]
  },
  {
   "cell_type": "code",
   "execution_count": 2,
   "metadata": {},
   "outputs": [],
   "source": [
    "# File description,\n",
    "#\n",
    "#Sample code number           \n",
    "#Clump Thickness              \n",
    "#Uniformity of Cell Size      \n",
    "#Uniformity of Cell Shape     \n",
    "#Marginal Adhesion            \n",
    "#Single Epithelial Cell Size  \n",
    "#Bare Nuclei                  \n",
    "#Bland Chromatin              \n",
    "#Normal Nucleoli              \n",
    "#Mitoses                      \n",
    "#Class\n",
    "dataF = pd.read_csv(\"breast-cancer-wisconsin.data\")\n",
    "dataF.columns=[\"sample\",\"c_thickness\",\"cell_size\",\"cell_shape\",\"adhesion\",\"epitelial_size\",\"nuclei\",\"chromatin\",\"nucleoli\",\"mitoses\",\"class\"]"
   ]
  },
  {
   "cell_type": "code",
   "execution_count": 3,
   "metadata": {},
   "outputs": [
    {
     "data": {
      "text/html": [
       "<div>\n",
       "<style>\n",
       "    .dataframe thead tr:only-child th {\n",
       "        text-align: right;\n",
       "    }\n",
       "\n",
       "    .dataframe thead th {\n",
       "        text-align: left;\n",
       "    }\n",
       "\n",
       "    .dataframe tbody tr th {\n",
       "        vertical-align: top;\n",
       "    }\n",
       "</style>\n",
       "<table border=\"1\" class=\"dataframe\">\n",
       "  <thead>\n",
       "    <tr style=\"text-align: right;\">\n",
       "      <th></th>\n",
       "      <th>sample</th>\n",
       "      <th>c_thickness</th>\n",
       "      <th>cell_size</th>\n",
       "      <th>cell_shape</th>\n",
       "      <th>adhesion</th>\n",
       "      <th>epitelial_size</th>\n",
       "      <th>nuclei</th>\n",
       "      <th>chromatin</th>\n",
       "      <th>nucleoli</th>\n",
       "      <th>mitoses</th>\n",
       "      <th>class</th>\n",
       "    </tr>\n",
       "  </thead>\n",
       "  <tbody>\n",
       "    <tr>\n",
       "      <th>0</th>\n",
       "      <td>True</td>\n",
       "      <td>True</td>\n",
       "      <td>True</td>\n",
       "      <td>True</td>\n",
       "      <td>True</td>\n",
       "      <td>True</td>\n",
       "      <td>False</td>\n",
       "      <td>True</td>\n",
       "      <td>True</td>\n",
       "      <td>True</td>\n",
       "      <td>True</td>\n",
       "    </tr>\n",
       "    <tr>\n",
       "      <th>1</th>\n",
       "      <td>True</td>\n",
       "      <td>True</td>\n",
       "      <td>True</td>\n",
       "      <td>True</td>\n",
       "      <td>True</td>\n",
       "      <td>True</td>\n",
       "      <td>False</td>\n",
       "      <td>True</td>\n",
       "      <td>True</td>\n",
       "      <td>True</td>\n",
       "      <td>True</td>\n",
       "    </tr>\n",
       "    <tr>\n",
       "      <th>2</th>\n",
       "      <td>True</td>\n",
       "      <td>True</td>\n",
       "      <td>True</td>\n",
       "      <td>True</td>\n",
       "      <td>True</td>\n",
       "      <td>True</td>\n",
       "      <td>False</td>\n",
       "      <td>True</td>\n",
       "      <td>True</td>\n",
       "      <td>True</td>\n",
       "      <td>True</td>\n",
       "    </tr>\n",
       "    <tr>\n",
       "      <th>3</th>\n",
       "      <td>True</td>\n",
       "      <td>True</td>\n",
       "      <td>True</td>\n",
       "      <td>True</td>\n",
       "      <td>True</td>\n",
       "      <td>True</td>\n",
       "      <td>False</td>\n",
       "      <td>True</td>\n",
       "      <td>True</td>\n",
       "      <td>True</td>\n",
       "      <td>True</td>\n",
       "    </tr>\n",
       "    <tr>\n",
       "      <th>4</th>\n",
       "      <td>True</td>\n",
       "      <td>True</td>\n",
       "      <td>True</td>\n",
       "      <td>True</td>\n",
       "      <td>True</td>\n",
       "      <td>True</td>\n",
       "      <td>False</td>\n",
       "      <td>True</td>\n",
       "      <td>True</td>\n",
       "      <td>True</td>\n",
       "      <td>True</td>\n",
       "    </tr>\n",
       "  </tbody>\n",
       "</table>\n",
       "</div>"
      ],
      "text/plain": [
       "   sample  c_thickness  cell_size  cell_shape  adhesion  epitelial_size  \\\n",
       "0    True         True       True        True      True            True   \n",
       "1    True         True       True        True      True            True   \n",
       "2    True         True       True        True      True            True   \n",
       "3    True         True       True        True      True            True   \n",
       "4    True         True       True        True      True            True   \n",
       "\n",
       "   nuclei  chromatin  nucleoli  mitoses  class  \n",
       "0   False       True      True     True   True  \n",
       "1   False       True      True     True   True  \n",
       "2   False       True      True     True   True  \n",
       "3   False       True      True     True   True  \n",
       "4   False       True      True     True   True  "
      ]
     },
     "execution_count": 3,
     "metadata": {},
     "output_type": "execute_result"
    }
   ],
   "source": [
    "dataF.applymap(np.isreal).head()"
   ]
  },
  {
   "cell_type": "code",
   "execution_count": 4,
   "metadata": {},
   "outputs": [],
   "source": [
    "#dataF[\"nuclei\"] = dataF[\"nuclei\"].astype(float)\n",
    "dataF = dataF.apply(pd.to_numeric, errors='coerce')"
   ]
  },
  {
   "cell_type": "code",
   "execution_count": 5,
   "metadata": {
    "collapsed": true
   },
   "outputs": [],
   "source": [
    "dataF = dataF.dropna()"
   ]
  },
  {
   "cell_type": "code",
   "execution_count": 6,
   "metadata": {
    "scrolled": true
   },
   "outputs": [
    {
     "data": {
      "text/html": [
       "<div>\n",
       "<style>\n",
       "    .dataframe thead tr:only-child th {\n",
       "        text-align: right;\n",
       "    }\n",
       "\n",
       "    .dataframe thead th {\n",
       "        text-align: left;\n",
       "    }\n",
       "\n",
       "    .dataframe tbody tr th {\n",
       "        vertical-align: top;\n",
       "    }\n",
       "</style>\n",
       "<table border=\"1\" class=\"dataframe\">\n",
       "  <thead>\n",
       "    <tr style=\"text-align: right;\">\n",
       "      <th></th>\n",
       "      <th>sample</th>\n",
       "      <th>c_thickness</th>\n",
       "      <th>cell_size</th>\n",
       "      <th>cell_shape</th>\n",
       "      <th>adhesion</th>\n",
       "      <th>epitelial_size</th>\n",
       "      <th>nuclei</th>\n",
       "      <th>chromatin</th>\n",
       "      <th>nucleoli</th>\n",
       "      <th>mitoses</th>\n",
       "      <th>class</th>\n",
       "    </tr>\n",
       "  </thead>\n",
       "  <tbody>\n",
       "    <tr>\n",
       "      <th>0</th>\n",
       "      <td>True</td>\n",
       "      <td>True</td>\n",
       "      <td>True</td>\n",
       "      <td>True</td>\n",
       "      <td>True</td>\n",
       "      <td>True</td>\n",
       "      <td>True</td>\n",
       "      <td>True</td>\n",
       "      <td>True</td>\n",
       "      <td>True</td>\n",
       "      <td>True</td>\n",
       "    </tr>\n",
       "    <tr>\n",
       "      <th>1</th>\n",
       "      <td>True</td>\n",
       "      <td>True</td>\n",
       "      <td>True</td>\n",
       "      <td>True</td>\n",
       "      <td>True</td>\n",
       "      <td>True</td>\n",
       "      <td>True</td>\n",
       "      <td>True</td>\n",
       "      <td>True</td>\n",
       "      <td>True</td>\n",
       "      <td>True</td>\n",
       "    </tr>\n",
       "    <tr>\n",
       "      <th>2</th>\n",
       "      <td>True</td>\n",
       "      <td>True</td>\n",
       "      <td>True</td>\n",
       "      <td>True</td>\n",
       "      <td>True</td>\n",
       "      <td>True</td>\n",
       "      <td>True</td>\n",
       "      <td>True</td>\n",
       "      <td>True</td>\n",
       "      <td>True</td>\n",
       "      <td>True</td>\n",
       "    </tr>\n",
       "    <tr>\n",
       "      <th>3</th>\n",
       "      <td>True</td>\n",
       "      <td>True</td>\n",
       "      <td>True</td>\n",
       "      <td>True</td>\n",
       "      <td>True</td>\n",
       "      <td>True</td>\n",
       "      <td>True</td>\n",
       "      <td>True</td>\n",
       "      <td>True</td>\n",
       "      <td>True</td>\n",
       "      <td>True</td>\n",
       "    </tr>\n",
       "    <tr>\n",
       "      <th>4</th>\n",
       "      <td>True</td>\n",
       "      <td>True</td>\n",
       "      <td>True</td>\n",
       "      <td>True</td>\n",
       "      <td>True</td>\n",
       "      <td>True</td>\n",
       "      <td>True</td>\n",
       "      <td>True</td>\n",
       "      <td>True</td>\n",
       "      <td>True</td>\n",
       "      <td>True</td>\n",
       "    </tr>\n",
       "  </tbody>\n",
       "</table>\n",
       "</div>"
      ],
      "text/plain": [
       "   sample  c_thickness  cell_size  cell_shape  adhesion  epitelial_size  \\\n",
       "0    True         True       True        True      True            True   \n",
       "1    True         True       True        True      True            True   \n",
       "2    True         True       True        True      True            True   \n",
       "3    True         True       True        True      True            True   \n",
       "4    True         True       True        True      True            True   \n",
       "\n",
       "   nuclei  chromatin  nucleoli  mitoses  class  \n",
       "0    True       True      True     True   True  \n",
       "1    True       True      True     True   True  \n",
       "2    True       True      True     True   True  \n",
       "3    True       True      True     True   True  \n",
       "4    True       True      True     True   True  "
      ]
     },
     "execution_count": 6,
     "metadata": {},
     "output_type": "execute_result"
    }
   ],
   "source": [
    "dataF.applymap(np.isreal).head()"
   ]
  },
  {
   "cell_type": "code",
   "execution_count": 7,
   "metadata": {
    "scrolled": true
   },
   "outputs": [
    {
     "data": {
      "text/plain": [
       "sample            1.076833e+06\n",
       "c_thickness       4.441349e+00\n",
       "cell_size         3.153959e+00\n",
       "cell_shape        3.218475e+00\n",
       "adhesion          2.832845e+00\n",
       "epitelial_size    3.236070e+00\n",
       "nuclei            3.548387e+00\n",
       "chromatin         3.445748e+00\n",
       "nucleoli          2.872434e+00\n",
       "mitoses           1.604106e+00\n",
       "class             2.700880e+00\n",
       "dtype: float64"
      ]
     },
     "execution_count": 7,
     "metadata": {},
     "output_type": "execute_result"
    }
   ],
   "source": [
    "dataF.mean()"
   ]
  },
  {
   "cell_type": "code",
   "execution_count": 8,
   "metadata": {},
   "outputs": [
    {
     "data": {
      "text/html": [
       "<div>\n",
       "<style>\n",
       "    .dataframe thead tr:only-child th {\n",
       "        text-align: right;\n",
       "    }\n",
       "\n",
       "    .dataframe thead th {\n",
       "        text-align: left;\n",
       "    }\n",
       "\n",
       "    .dataframe tbody tr th {\n",
       "        vertical-align: top;\n",
       "    }\n",
       "</style>\n",
       "<table border=\"1\" class=\"dataframe\">\n",
       "  <thead>\n",
       "    <tr style=\"text-align: right;\">\n",
       "      <th></th>\n",
       "      <th>sample</th>\n",
       "      <th>c_thickness</th>\n",
       "      <th>cell_size</th>\n",
       "      <th>cell_shape</th>\n",
       "      <th>adhesion</th>\n",
       "      <th>epitelial_size</th>\n",
       "      <th>nuclei</th>\n",
       "      <th>chromatin</th>\n",
       "      <th>nucleoli</th>\n",
       "      <th>mitoses</th>\n",
       "      <th>class</th>\n",
       "    </tr>\n",
       "  </thead>\n",
       "  <tbody>\n",
       "    <tr>\n",
       "      <th>0</th>\n",
       "      <td>1002945</td>\n",
       "      <td>5</td>\n",
       "      <td>4</td>\n",
       "      <td>4</td>\n",
       "      <td>5</td>\n",
       "      <td>7</td>\n",
       "      <td>10.0</td>\n",
       "      <td>3</td>\n",
       "      <td>2</td>\n",
       "      <td>1</td>\n",
       "      <td>2</td>\n",
       "    </tr>\n",
       "    <tr>\n",
       "      <th>1</th>\n",
       "      <td>1015425</td>\n",
       "      <td>3</td>\n",
       "      <td>1</td>\n",
       "      <td>1</td>\n",
       "      <td>1</td>\n",
       "      <td>2</td>\n",
       "      <td>2.0</td>\n",
       "      <td>3</td>\n",
       "      <td>1</td>\n",
       "      <td>1</td>\n",
       "      <td>2</td>\n",
       "    </tr>\n",
       "    <tr>\n",
       "      <th>2</th>\n",
       "      <td>1016277</td>\n",
       "      <td>6</td>\n",
       "      <td>8</td>\n",
       "      <td>8</td>\n",
       "      <td>1</td>\n",
       "      <td>3</td>\n",
       "      <td>4.0</td>\n",
       "      <td>3</td>\n",
       "      <td>7</td>\n",
       "      <td>1</td>\n",
       "      <td>2</td>\n",
       "    </tr>\n",
       "    <tr>\n",
       "      <th>3</th>\n",
       "      <td>1017023</td>\n",
       "      <td>4</td>\n",
       "      <td>1</td>\n",
       "      <td>1</td>\n",
       "      <td>3</td>\n",
       "      <td>2</td>\n",
       "      <td>1.0</td>\n",
       "      <td>3</td>\n",
       "      <td>1</td>\n",
       "      <td>1</td>\n",
       "      <td>2</td>\n",
       "    </tr>\n",
       "    <tr>\n",
       "      <th>4</th>\n",
       "      <td>1017122</td>\n",
       "      <td>8</td>\n",
       "      <td>10</td>\n",
       "      <td>10</td>\n",
       "      <td>8</td>\n",
       "      <td>7</td>\n",
       "      <td>10.0</td>\n",
       "      <td>9</td>\n",
       "      <td>7</td>\n",
       "      <td>1</td>\n",
       "      <td>4</td>\n",
       "    </tr>\n",
       "  </tbody>\n",
       "</table>\n",
       "</div>"
      ],
      "text/plain": [
       "    sample  c_thickness  cell_size  cell_shape  adhesion  epitelial_size  \\\n",
       "0  1002945            5          4           4         5               7   \n",
       "1  1015425            3          1           1         1               2   \n",
       "2  1016277            6          8           8         1               3   \n",
       "3  1017023            4          1           1         3               2   \n",
       "4  1017122            8         10          10         8               7   \n",
       "\n",
       "   nuclei  chromatin  nucleoli  mitoses  class  \n",
       "0    10.0          3         2        1      2  \n",
       "1     2.0          3         1        1      2  \n",
       "2     4.0          3         7        1      2  \n",
       "3     1.0          3         1        1      2  \n",
       "4    10.0          9         7        1      4  "
      ]
     },
     "execution_count": 8,
     "metadata": {},
     "output_type": "execute_result"
    }
   ],
   "source": [
    "#Fill na values with respecting mean value in order to not change mean properties\n",
    "dataF.fillna(value=dataF.mean(),inplace=True)\n",
    "dataF.head()"
   ]
  },
  {
   "cell_type": "code",
   "execution_count": 9,
   "metadata": {},
   "outputs": [
    {
     "data": {
      "text/html": [
       "<div>\n",
       "<style>\n",
       "    .dataframe thead tr:only-child th {\n",
       "        text-align: right;\n",
       "    }\n",
       "\n",
       "    .dataframe thead th {\n",
       "        text-align: left;\n",
       "    }\n",
       "\n",
       "    .dataframe tbody tr th {\n",
       "        vertical-align: top;\n",
       "    }\n",
       "</style>\n",
       "<table border=\"1\" class=\"dataframe\">\n",
       "  <thead>\n",
       "    <tr style=\"text-align: right;\">\n",
       "      <th></th>\n",
       "      <th>sample</th>\n",
       "      <th>c_thickness</th>\n",
       "      <th>cell_size</th>\n",
       "      <th>cell_shape</th>\n",
       "      <th>adhesion</th>\n",
       "      <th>epitelial_size</th>\n",
       "      <th>nuclei</th>\n",
       "      <th>chromatin</th>\n",
       "      <th>nucleoli</th>\n",
       "      <th>mitoses</th>\n",
       "      <th>class</th>\n",
       "    </tr>\n",
       "  </thead>\n",
       "  <tbody>\n",
       "    <tr>\n",
       "      <th>693</th>\n",
       "      <td>776715</td>\n",
       "      <td>3</td>\n",
       "      <td>1</td>\n",
       "      <td>1</td>\n",
       "      <td>1</td>\n",
       "      <td>3</td>\n",
       "      <td>2.0</td>\n",
       "      <td>1</td>\n",
       "      <td>1</td>\n",
       "      <td>1</td>\n",
       "      <td>2</td>\n",
       "    </tr>\n",
       "    <tr>\n",
       "      <th>694</th>\n",
       "      <td>841769</td>\n",
       "      <td>2</td>\n",
       "      <td>1</td>\n",
       "      <td>1</td>\n",
       "      <td>1</td>\n",
       "      <td>2</td>\n",
       "      <td>1.0</td>\n",
       "      <td>1</td>\n",
       "      <td>1</td>\n",
       "      <td>1</td>\n",
       "      <td>2</td>\n",
       "    </tr>\n",
       "    <tr>\n",
       "      <th>695</th>\n",
       "      <td>888820</td>\n",
       "      <td>5</td>\n",
       "      <td>10</td>\n",
       "      <td>10</td>\n",
       "      <td>3</td>\n",
       "      <td>7</td>\n",
       "      <td>3.0</td>\n",
       "      <td>8</td>\n",
       "      <td>10</td>\n",
       "      <td>2</td>\n",
       "      <td>4</td>\n",
       "    </tr>\n",
       "    <tr>\n",
       "      <th>696</th>\n",
       "      <td>897471</td>\n",
       "      <td>4</td>\n",
       "      <td>8</td>\n",
       "      <td>6</td>\n",
       "      <td>4</td>\n",
       "      <td>3</td>\n",
       "      <td>4.0</td>\n",
       "      <td>10</td>\n",
       "      <td>6</td>\n",
       "      <td>1</td>\n",
       "      <td>4</td>\n",
       "    </tr>\n",
       "    <tr>\n",
       "      <th>697</th>\n",
       "      <td>897471</td>\n",
       "      <td>4</td>\n",
       "      <td>8</td>\n",
       "      <td>8</td>\n",
       "      <td>5</td>\n",
       "      <td>4</td>\n",
       "      <td>5.0</td>\n",
       "      <td>10</td>\n",
       "      <td>4</td>\n",
       "      <td>1</td>\n",
       "      <td>4</td>\n",
       "    </tr>\n",
       "  </tbody>\n",
       "</table>\n",
       "</div>"
      ],
      "text/plain": [
       "     sample  c_thickness  cell_size  cell_shape  adhesion  epitelial_size  \\\n",
       "693  776715            3          1           1         1               3   \n",
       "694  841769            2          1           1         1               2   \n",
       "695  888820            5         10          10         3               7   \n",
       "696  897471            4          8           6         4               3   \n",
       "697  897471            4          8           8         5               4   \n",
       "\n",
       "     nuclei  chromatin  nucleoli  mitoses  class  \n",
       "693     2.0          1         1        1      2  \n",
       "694     1.0          1         1        1      2  \n",
       "695     3.0          8        10        2      4  \n",
       "696     4.0         10         6        1      4  \n",
       "697     5.0         10         4        1      4  "
      ]
     },
     "execution_count": 9,
     "metadata": {},
     "output_type": "execute_result"
    }
   ],
   "source": [
    "dataF.tail()"
   ]
  },
  {
   "cell_type": "code",
   "execution_count": 10,
   "metadata": {},
   "outputs": [
    {
     "data": {
      "text/html": [
       "<div>\n",
       "<style>\n",
       "    .dataframe thead tr:only-child th {\n",
       "        text-align: right;\n",
       "    }\n",
       "\n",
       "    .dataframe thead th {\n",
       "        text-align: left;\n",
       "    }\n",
       "\n",
       "    .dataframe tbody tr th {\n",
       "        vertical-align: top;\n",
       "    }\n",
       "</style>\n",
       "<table border=\"1\" class=\"dataframe\">\n",
       "  <thead>\n",
       "    <tr style=\"text-align: right;\">\n",
       "      <th></th>\n",
       "      <th>sample</th>\n",
       "      <th>c_thickness</th>\n",
       "      <th>cell_size</th>\n",
       "      <th>cell_shape</th>\n",
       "      <th>adhesion</th>\n",
       "      <th>epitelial_size</th>\n",
       "      <th>nuclei</th>\n",
       "      <th>chromatin</th>\n",
       "      <th>nucleoli</th>\n",
       "      <th>mitoses</th>\n",
       "      <th>class</th>\n",
       "    </tr>\n",
       "  </thead>\n",
       "  <tbody>\n",
       "    <tr>\n",
       "      <th>count</th>\n",
       "      <td>6.820000e+02</td>\n",
       "      <td>682.000000</td>\n",
       "      <td>682.000000</td>\n",
       "      <td>682.000000</td>\n",
       "      <td>682.000000</td>\n",
       "      <td>682.000000</td>\n",
       "      <td>682.000000</td>\n",
       "      <td>682.000000</td>\n",
       "      <td>682.000000</td>\n",
       "      <td>682.000000</td>\n",
       "      <td>682.000000</td>\n",
       "    </tr>\n",
       "    <tr>\n",
       "      <th>mean</th>\n",
       "      <td>1.076833e+06</td>\n",
       "      <td>4.441349</td>\n",
       "      <td>3.153959</td>\n",
       "      <td>3.218475</td>\n",
       "      <td>2.832845</td>\n",
       "      <td>3.236070</td>\n",
       "      <td>3.548387</td>\n",
       "      <td>3.445748</td>\n",
       "      <td>2.872434</td>\n",
       "      <td>1.604106</td>\n",
       "      <td>2.700880</td>\n",
       "    </tr>\n",
       "    <tr>\n",
       "      <th>std</th>\n",
       "      <td>6.210926e+05</td>\n",
       "      <td>2.822751</td>\n",
       "      <td>3.066285</td>\n",
       "      <td>2.989568</td>\n",
       "      <td>2.865805</td>\n",
       "      <td>2.224214</td>\n",
       "      <td>3.645226</td>\n",
       "      <td>2.451435</td>\n",
       "      <td>3.054065</td>\n",
       "      <td>1.733792</td>\n",
       "      <td>0.954916</td>\n",
       "    </tr>\n",
       "    <tr>\n",
       "      <th>min</th>\n",
       "      <td>6.337500e+04</td>\n",
       "      <td>1.000000</td>\n",
       "      <td>1.000000</td>\n",
       "      <td>1.000000</td>\n",
       "      <td>1.000000</td>\n",
       "      <td>1.000000</td>\n",
       "      <td>1.000000</td>\n",
       "      <td>1.000000</td>\n",
       "      <td>1.000000</td>\n",
       "      <td>1.000000</td>\n",
       "      <td>2.000000</td>\n",
       "    </tr>\n",
       "    <tr>\n",
       "      <th>25%</th>\n",
       "      <td>8.774540e+05</td>\n",
       "      <td>2.000000</td>\n",
       "      <td>1.000000</td>\n",
       "      <td>1.000000</td>\n",
       "      <td>1.000000</td>\n",
       "      <td>2.000000</td>\n",
       "      <td>1.000000</td>\n",
       "      <td>2.000000</td>\n",
       "      <td>1.000000</td>\n",
       "      <td>1.000000</td>\n",
       "      <td>2.000000</td>\n",
       "    </tr>\n",
       "    <tr>\n",
       "      <th>50%</th>\n",
       "      <td>1.171820e+06</td>\n",
       "      <td>4.000000</td>\n",
       "      <td>1.000000</td>\n",
       "      <td>1.000000</td>\n",
       "      <td>1.000000</td>\n",
       "      <td>2.000000</td>\n",
       "      <td>1.000000</td>\n",
       "      <td>3.000000</td>\n",
       "      <td>1.000000</td>\n",
       "      <td>1.000000</td>\n",
       "      <td>2.000000</td>\n",
       "    </tr>\n",
       "    <tr>\n",
       "      <th>75%</th>\n",
       "      <td>1.238741e+06</td>\n",
       "      <td>6.000000</td>\n",
       "      <td>5.000000</td>\n",
       "      <td>5.000000</td>\n",
       "      <td>4.000000</td>\n",
       "      <td>4.000000</td>\n",
       "      <td>6.000000</td>\n",
       "      <td>5.000000</td>\n",
       "      <td>4.000000</td>\n",
       "      <td>1.000000</td>\n",
       "      <td>4.000000</td>\n",
       "    </tr>\n",
       "    <tr>\n",
       "      <th>max</th>\n",
       "      <td>1.345435e+07</td>\n",
       "      <td>10.000000</td>\n",
       "      <td>10.000000</td>\n",
       "      <td>10.000000</td>\n",
       "      <td>10.000000</td>\n",
       "      <td>10.000000</td>\n",
       "      <td>10.000000</td>\n",
       "      <td>10.000000</td>\n",
       "      <td>10.000000</td>\n",
       "      <td>10.000000</td>\n",
       "      <td>4.000000</td>\n",
       "    </tr>\n",
       "  </tbody>\n",
       "</table>\n",
       "</div>"
      ],
      "text/plain": [
       "             sample  c_thickness   cell_size  cell_shape    adhesion  \\\n",
       "count  6.820000e+02   682.000000  682.000000  682.000000  682.000000   \n",
       "mean   1.076833e+06     4.441349    3.153959    3.218475    2.832845   \n",
       "std    6.210926e+05     2.822751    3.066285    2.989568    2.865805   \n",
       "min    6.337500e+04     1.000000    1.000000    1.000000    1.000000   \n",
       "25%    8.774540e+05     2.000000    1.000000    1.000000    1.000000   \n",
       "50%    1.171820e+06     4.000000    1.000000    1.000000    1.000000   \n",
       "75%    1.238741e+06     6.000000    5.000000    5.000000    4.000000   \n",
       "max    1.345435e+07    10.000000   10.000000   10.000000   10.000000   \n",
       "\n",
       "       epitelial_size      nuclei   chromatin    nucleoli     mitoses  \\\n",
       "count      682.000000  682.000000  682.000000  682.000000  682.000000   \n",
       "mean         3.236070    3.548387    3.445748    2.872434    1.604106   \n",
       "std          2.224214    3.645226    2.451435    3.054065    1.733792   \n",
       "min          1.000000    1.000000    1.000000    1.000000    1.000000   \n",
       "25%          2.000000    1.000000    2.000000    1.000000    1.000000   \n",
       "50%          2.000000    1.000000    3.000000    1.000000    1.000000   \n",
       "75%          4.000000    6.000000    5.000000    4.000000    1.000000   \n",
       "max         10.000000   10.000000   10.000000   10.000000   10.000000   \n",
       "\n",
       "            class  \n",
       "count  682.000000  \n",
       "mean     2.700880  \n",
       "std      0.954916  \n",
       "min      2.000000  \n",
       "25%      2.000000  \n",
       "50%      2.000000  \n",
       "75%      4.000000  \n",
       "max      4.000000  "
      ]
     },
     "execution_count": 10,
     "metadata": {},
     "output_type": "execute_result"
    }
   ],
   "source": [
    "dataF.describe()"
   ]
  },
  {
   "cell_type": "code",
   "execution_count": 11,
   "metadata": {},
   "outputs": [
    {
     "data": {
      "text/html": [
       "<div>\n",
       "<style>\n",
       "    .dataframe thead tr:only-child th {\n",
       "        text-align: right;\n",
       "    }\n",
       "\n",
       "    .dataframe thead th {\n",
       "        text-align: left;\n",
       "    }\n",
       "\n",
       "    .dataframe tbody tr th {\n",
       "        vertical-align: top;\n",
       "    }\n",
       "</style>\n",
       "<table border=\"1\" class=\"dataframe\">\n",
       "  <thead>\n",
       "    <tr style=\"text-align: right;\">\n",
       "      <th></th>\n",
       "      <th>sample</th>\n",
       "      <th>c_thickness</th>\n",
       "      <th>cell_size</th>\n",
       "      <th>cell_shape</th>\n",
       "      <th>adhesion</th>\n",
       "      <th>epitelial_size</th>\n",
       "      <th>nuclei</th>\n",
       "      <th>chromatin</th>\n",
       "      <th>nucleoli</th>\n",
       "      <th>mitoses</th>\n",
       "      <th>class</th>\n",
       "    </tr>\n",
       "  </thead>\n",
       "  <tbody>\n",
       "    <tr>\n",
       "      <th>sample</th>\n",
       "      <td>1.000000</td>\n",
       "      <td>-0.056316</td>\n",
       "      <td>-0.041539</td>\n",
       "      <td>-0.042373</td>\n",
       "      <td>-0.069768</td>\n",
       "      <td>-0.048756</td>\n",
       "      <td>-0.099411</td>\n",
       "      <td>-0.062002</td>\n",
       "      <td>-0.050824</td>\n",
       "      <td>-0.038039</td>\n",
       "      <td>-0.084869</td>\n",
       "    </tr>\n",
       "    <tr>\n",
       "      <th>c_thickness</th>\n",
       "      <td>-0.056316</td>\n",
       "      <td>1.000000</td>\n",
       "      <td>0.642936</td>\n",
       "      <td>0.653968</td>\n",
       "      <td>0.488175</td>\n",
       "      <td>0.523891</td>\n",
       "      <td>0.593524</td>\n",
       "      <td>0.553825</td>\n",
       "      <td>0.534406</td>\n",
       "      <td>0.351100</td>\n",
       "      <td>0.715306</td>\n",
       "    </tr>\n",
       "    <tr>\n",
       "      <th>cell_size</th>\n",
       "      <td>-0.041539</td>\n",
       "      <td>0.642936</td>\n",
       "      <td>1.000000</td>\n",
       "      <td>0.907158</td>\n",
       "      <td>0.706786</td>\n",
       "      <td>0.753415</td>\n",
       "      <td>0.691487</td>\n",
       "      <td>0.755663</td>\n",
       "      <td>0.719173</td>\n",
       "      <td>0.460603</td>\n",
       "      <td>0.820667</td>\n",
       "    </tr>\n",
       "    <tr>\n",
       "      <th>cell_shape</th>\n",
       "      <td>-0.042373</td>\n",
       "      <td>0.653968</td>\n",
       "      <td>0.907158</td>\n",
       "      <td>1.000000</td>\n",
       "      <td>0.685735</td>\n",
       "      <td>0.722313</td>\n",
       "      <td>0.713661</td>\n",
       "      <td>0.735460</td>\n",
       "      <td>0.717784</td>\n",
       "      <td>0.441096</td>\n",
       "      <td>0.821749</td>\n",
       "    </tr>\n",
       "    <tr>\n",
       "      <th>adhesion</th>\n",
       "      <td>-0.069768</td>\n",
       "      <td>0.488175</td>\n",
       "      <td>0.706786</td>\n",
       "      <td>0.685735</td>\n",
       "      <td>1.000000</td>\n",
       "      <td>0.594340</td>\n",
       "      <td>0.670434</td>\n",
       "      <td>0.668613</td>\n",
       "      <td>0.602893</td>\n",
       "      <td>0.418734</td>\n",
       "      <td>0.706097</td>\n",
       "    </tr>\n",
       "    <tr>\n",
       "      <th>epitelial_size</th>\n",
       "      <td>-0.048756</td>\n",
       "      <td>0.523891</td>\n",
       "      <td>0.753415</td>\n",
       "      <td>0.722313</td>\n",
       "      <td>0.594340</td>\n",
       "      <td>1.000000</td>\n",
       "      <td>0.585489</td>\n",
       "      <td>0.618135</td>\n",
       "      <td>0.628743</td>\n",
       "      <td>0.480451</td>\n",
       "      <td>0.690789</td>\n",
       "    </tr>\n",
       "    <tr>\n",
       "      <th>nuclei</th>\n",
       "      <td>-0.099411</td>\n",
       "      <td>0.593524</td>\n",
       "      <td>0.691487</td>\n",
       "      <td>0.713661</td>\n",
       "      <td>0.670434</td>\n",
       "      <td>0.585489</td>\n",
       "      <td>1.000000</td>\n",
       "      <td>0.680689</td>\n",
       "      <td>0.584022</td>\n",
       "      <td>0.339005</td>\n",
       "      <td>0.822563</td>\n",
       "    </tr>\n",
       "    <tr>\n",
       "      <th>chromatin</th>\n",
       "      <td>-0.062002</td>\n",
       "      <td>0.553825</td>\n",
       "      <td>0.755663</td>\n",
       "      <td>0.735460</td>\n",
       "      <td>0.668613</td>\n",
       "      <td>0.618135</td>\n",
       "      <td>0.680689</td>\n",
       "      <td>1.000000</td>\n",
       "      <td>0.665638</td>\n",
       "      <td>0.345957</td>\n",
       "      <td>0.758350</td>\n",
       "    </tr>\n",
       "    <tr>\n",
       "      <th>nucleoli</th>\n",
       "      <td>-0.050824</td>\n",
       "      <td>0.534406</td>\n",
       "      <td>0.719173</td>\n",
       "      <td>0.717784</td>\n",
       "      <td>0.602893</td>\n",
       "      <td>0.628743</td>\n",
       "      <td>0.584022</td>\n",
       "      <td>0.665638</td>\n",
       "      <td>1.000000</td>\n",
       "      <td>0.433602</td>\n",
       "      <td>0.718499</td>\n",
       "    </tr>\n",
       "    <tr>\n",
       "      <th>mitoses</th>\n",
       "      <td>-0.038039</td>\n",
       "      <td>0.351100</td>\n",
       "      <td>0.460603</td>\n",
       "      <td>0.441096</td>\n",
       "      <td>0.418734</td>\n",
       "      <td>0.480451</td>\n",
       "      <td>0.339005</td>\n",
       "      <td>0.345957</td>\n",
       "      <td>0.433602</td>\n",
       "      <td>1.000000</td>\n",
       "      <td>0.423278</td>\n",
       "    </tr>\n",
       "    <tr>\n",
       "      <th>class</th>\n",
       "      <td>-0.084869</td>\n",
       "      <td>0.715306</td>\n",
       "      <td>0.820667</td>\n",
       "      <td>0.821749</td>\n",
       "      <td>0.706097</td>\n",
       "      <td>0.690789</td>\n",
       "      <td>0.822563</td>\n",
       "      <td>0.758350</td>\n",
       "      <td>0.718499</td>\n",
       "      <td>0.423278</td>\n",
       "      <td>1.000000</td>\n",
       "    </tr>\n",
       "  </tbody>\n",
       "</table>\n",
       "</div>"
      ],
      "text/plain": [
       "                  sample  c_thickness  cell_size  cell_shape  adhesion  \\\n",
       "sample          1.000000    -0.056316  -0.041539   -0.042373 -0.069768   \n",
       "c_thickness    -0.056316     1.000000   0.642936    0.653968  0.488175   \n",
       "cell_size      -0.041539     0.642936   1.000000    0.907158  0.706786   \n",
       "cell_shape     -0.042373     0.653968   0.907158    1.000000  0.685735   \n",
       "adhesion       -0.069768     0.488175   0.706786    0.685735  1.000000   \n",
       "epitelial_size -0.048756     0.523891   0.753415    0.722313  0.594340   \n",
       "nuclei         -0.099411     0.593524   0.691487    0.713661  0.670434   \n",
       "chromatin      -0.062002     0.553825   0.755663    0.735460  0.668613   \n",
       "nucleoli       -0.050824     0.534406   0.719173    0.717784  0.602893   \n",
       "mitoses        -0.038039     0.351100   0.460603    0.441096  0.418734   \n",
       "class          -0.084869     0.715306   0.820667    0.821749  0.706097   \n",
       "\n",
       "                epitelial_size    nuclei  chromatin  nucleoli   mitoses  \\\n",
       "sample               -0.048756 -0.099411  -0.062002 -0.050824 -0.038039   \n",
       "c_thickness           0.523891  0.593524   0.553825  0.534406  0.351100   \n",
       "cell_size             0.753415  0.691487   0.755663  0.719173  0.460603   \n",
       "cell_shape            0.722313  0.713661   0.735460  0.717784  0.441096   \n",
       "adhesion              0.594340  0.670434   0.668613  0.602893  0.418734   \n",
       "epitelial_size        1.000000  0.585489   0.618135  0.628743  0.480451   \n",
       "nuclei                0.585489  1.000000   0.680689  0.584022  0.339005   \n",
       "chromatin             0.618135  0.680689   1.000000  0.665638  0.345957   \n",
       "nucleoli              0.628743  0.584022   0.665638  1.000000  0.433602   \n",
       "mitoses               0.480451  0.339005   0.345957  0.433602  1.000000   \n",
       "class                 0.690789  0.822563   0.758350  0.718499  0.423278   \n",
       "\n",
       "                   class  \n",
       "sample         -0.084869  \n",
       "c_thickness     0.715306  \n",
       "cell_size       0.820667  \n",
       "cell_shape      0.821749  \n",
       "adhesion        0.706097  \n",
       "epitelial_size  0.690789  \n",
       "nuclei          0.822563  \n",
       "chromatin       0.758350  \n",
       "nucleoli        0.718499  \n",
       "mitoses         0.423278  \n",
       "class           1.000000  "
      ]
     },
     "execution_count": 11,
     "metadata": {},
     "output_type": "execute_result"
    }
   ],
   "source": [
    "dataF.corr()"
   ]
  },
  {
   "cell_type": "code",
   "execution_count": 12,
   "metadata": {},
   "outputs": [],
   "source": [
    "dataF=dataF.drop(\"sample\",axis=1)"
   ]
  },
  {
   "cell_type": "code",
   "execution_count": 13,
   "metadata": {},
   "outputs": [
    {
     "data": {
      "image/png": "[encoded data removed]",
      "text/plain": [
       "<matplotlib.figure.Figure at 0x7f3ad0e56400>"
      ]
     },
     "metadata": {},
     "output_type": "display_data"
    }
   ],
   "source": [
    "scatter_matrix(dataF)\n",
    "plt.show()"
   ]
  },
  {
   "cell_type": "code",
   "execution_count": 14,
   "metadata": {},
   "outputs": [
    {
     "data": {
      "text/plain": [
       "Index(['c_thickness', 'cell_size', 'cell_shape', 'adhesion', 'epitelial_size',\n",
       "       'nuclei', 'chromatin', 'nucleoli', 'mitoses', 'class'],\n",
       "      dtype='object')"
      ]
     },
     "execution_count": 14,
     "metadata": {},
     "output_type": "execute_result"
    }
   ],
   "source": [
    "dataF.columns"
   ]
  },
  {
   "cell_type": "code",
   "execution_count": 15,
   "metadata": {},
   "outputs": [
    {
     "data": {
      "text/plain": [
       "[]"
      ]
     },
     "execution_count": 15,
     "metadata": {},
     "output_type": "execute_result"
    },
    {
     "data": {
      "image/png": "[encoded data removed]",
      "text/plain": [
       "<matplotlib.figure.Figure at 0x7f3accaeba20>"
      ]
     },
     "metadata": {},
     "output_type": "display_data"
    }
   ],
   "source": [
    "dataF.plot.scatter(\"cell_shape\",\"cell_size\")\n",
    "plt.plot()"
   ]
  },
  {
   "cell_type": "code",
   "execution_count": 16,
   "metadata": {},
   "outputs": [
    {
     "data": {
      "text/plain": [
       "[]"
      ]
     },
     "execution_count": 16,
     "metadata": {},
     "output_type": "execute_result"
    },
    {
     "data": {
      "image/png": "[encoded data removed]",
      "text/plain": [
       "<matplotlib.figure.Figure at 0x7f3accb16cf8>"
      ]
     },
     "metadata": {},
     "output_type": "display_data"
    }
   ],
   "source": [
    "dataF.hist()\n",
    "plt.plot()"
   ]
  },
  {
   "cell_type": "code",
   "execution_count": 17,
   "metadata": {},
   "outputs": [
    {
     "data": {
      "text/plain": [
       "[]"
      ]
     },
     "execution_count": 17,
     "metadata": {},
     "output_type": "execute_result"
    },
    {
     "data": {
      "image/png": "[encoded data removed]",
      "text/plain": [
       "<matplotlib.figure.Figure at 0x7f3accf8e518>"
      ]
     },
     "metadata": {},
     "output_type": "display_data"
    }
   ],
   "source": [
    "dataF.plot.scatter(\"class\",\"cell_shape\")\n",
    "plt.plot()"
   ]
  },
  {
   "cell_type": "code",
   "execution_count": 18,
   "metadata": {},
   "outputs": [
    {
     "data": {
      "text/plain": [
       "[]"
      ]
     },
     "execution_count": 18,
     "metadata": {},
     "output_type": "execute_result"
    },
    {
     "data": {
      "image/png": "[encoded data removed]",
      "text/plain": [
       "<matplotlib.figure.Figure at 0x7f3accb4be80>"
      ]
     },
     "metadata": {},
     "output_type": "display_data"
    }
   ],
   "source": [
    "dataF.plot.scatter(\"class\",\"cell_size\")\n",
    "plt.plot()"
   ]
  },
  {
   "cell_type": "code",
   "execution_count": 19,
   "metadata": {},
   "outputs": [
    {
     "data": {
      "text/plain": [
       "[]"
      ]
     },
     "execution_count": 19,
     "metadata": {},
     "output_type": "execute_result"
    },
    {
     "data": {
      "image/png": "[encoded data removed]",
      "text/plain": [
       "<matplotlib.figure.Figure at 0x7f3acca925c0>"
      ]
     },
     "metadata": {},
     "output_type": "display_data"
    }
   ],
   "source": [
    "dataF.plot.scatter(\"class\",\"c_thickness\")\n",
    "plt.plot()"
   ]
  },
  {
   "cell_type": "code",
   "execution_count": 20,
   "metadata": {
    "collapsed": true
   },
   "outputs": [],
   "source": [
    "from sklearn import preprocessing, svm\n",
    "from sklearn.model_selection import cross_validate\n",
    "from sklearn.model_selection import train_test_split\n",
    "from sklearn.linear_model import LinearRegression"
   ]
  },
  {
   "cell_type": "code",
   "execution_count": 21,
   "metadata": {},
   "outputs": [
    {
     "data": {
      "text/plain": [
       "682"
      ]
     },
     "execution_count": 21,
     "metadata": {},
     "output_type": "execute_result"
    }
   ],
   "source": [
    "dataSize = len(dataF)\n",
    "dataSize"
   ]
  },
  {
   "cell_type": "code",
   "execution_count": 22,
   "metadata": {},
   "outputs": [
    {
     "data": {
      "text/plain": [
       "69"
      ]
     },
     "execution_count": 22,
     "metadata": {},
     "output_type": "execute_result"
    }
   ],
   "source": [
    "testSize = int(np.ceil(0.1 * len(dataF)))\n",
    "\n",
    "testSize"
   ]
  },
  {
   "cell_type": "code",
   "execution_count": 23,
   "metadata": {},
   "outputs": [],
   "source": [
    "X = np.array(dataF.drop(['class'], 1),dtype=float)\n",
    "y = np.array(dataF[\"class\"],dtype=float)"
   ]
  },
  {
   "cell_type": "code",
   "execution_count": 24,
   "metadata": {
    "collapsed": true
   },
   "outputs": [],
   "source": [
    "X_train, X_test, y_train, y_test = train_test_split(X, y, test_size=0.2)"
   ]
  },
  {
   "cell_type": "code",
   "execution_count": 25,
   "metadata": {},
   "outputs": [
    {
     "name": "stdout",
     "output_type": "stream",
     "text": [
      "0.822936662595\n"
     ]
    }
   ],
   "source": [
    "clf = LinearRegression()\n",
    "clf.fit(X_train, y_train)\n",
    "confidence = clf.score(X_test, y_test)\n",
    "print(confidence)"
   ]
  },
  {
   "cell_type": "code",
   "execution_count": null,
   "metadata": {
    "collapsed": true
   },
   "outputs": [],
   "source": []
  }
 ],
 "metadata": {
  "kernelspec": {
   "display_name": "Python 3",
   "language": "python",
   "name": "python3"
  },
  "language_info": {
   "codemirror_mode": {
    "name": "ipython",
    "version": 3
   },
   "file_extension": ".py",
   "mimetype": "text/x-python",
   "name": "python",
   "nbconvert_exporter": "python",
   "pygments_lexer": "ipython3",
   "version": "3.5.4"
  }
 },
 "nbformat": 4,
 "nbformat_minor": 2
}
